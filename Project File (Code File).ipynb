{
 "cells": [
  {
   "cell_type": "markdown",
   "id": "cde4b4a8",
   "metadata": {},
   "source": [
    "## Text Generation\n",
    "#### Generation => Continous Prediction\n",
    "This Project is Devided into 2 parts :\n",
    "- Data Preprocessing\n",
    "- Model Creation, Training and Testing"
   ]
  },
  {
   "cell_type": "markdown",
   "id": "7f68d056",
   "metadata": {},
   "source": [
    "#### Data Source\n",
    "Downloading a free E-Book From Project Gutenburg"
   ]
  },
  {
   "cell_type": "markdown",
   "id": "5277ffb4",
   "metadata": {},
   "source": [
    "### Importing Libraries"
   ]
  },
  {
   "cell_type": "code",
   "execution_count": 1,
   "id": "92aae3ed",
   "metadata": {},
   "outputs": [],
   "source": [
    "import os\n",
    "import matplotlib.pyplot as plt\n",
    "import numpy as np\n",
    "import pandas as pd\n",
    "import warnings\n",
    "from sklearn.model_selection import train_test_split\n",
    "import keras\n",
    "from keras.utils import to_categorical\n",
    "from keras.models import Sequential\n",
    "from keras.layers import Dense, Embedding, Bidirectional, LSTM\n",
    "from sklearn.metrics import classification_report, confusion_matrix, accuracy_score\n",
    "import visualkeras\n",
    "import pydot_ng\n",
    "import pydotplus\n",
    "import graphviz\n",
    "import random\n",
    "import nltk\n",
    "from nltk.tokenize import word_tokenize\n",
    "from nltk.corpus import stopwords\n",
    "from sklearn.feature_extraction.text import TfidfVectorizer\n",
    "from keras.preprocessing.text import Tokenizer\n",
    "from keras.preprocessing.sequence import pad_sequences\n",
    "warnings.filterwarnings('ignore')"
   ]
  },
  {
   "cell_type": "markdown",
   "id": "1862863a",
   "metadata": {},
   "source": [
    "### Data Preprocessing"
   ]
  },
  {
   "cell_type": "markdown",
   "id": "9e647365",
   "metadata": {},
   "source": [
    "#### Essential Functions"
   ]
  },
  {
   "cell_type": "code",
   "execution_count": 2,
   "id": "aa7076d8",
   "metadata": {},
   "outputs": [],
   "source": [
    "def get_data(file_path) :\n",
    "    ## creating a file object\n",
    "    file = open(file_path, encoding=\"utf8\")\n",
    "    ## reading data from file\n",
    "    sentences = file.read().lower().split('\\n')\n",
    "    ## returning data\n",
    "    return sentences"
   ]
  },
  {
   "cell_type": "code",
   "execution_count": 3,
   "id": "8fa04ee7",
   "metadata": {},
   "outputs": [],
   "source": [
    "def get_numeric_sequences(sentences) :\n",
    "    ## creating tokenizer, with limit of all words.\n",
    "    token = Tokenizer()\n",
    "    ## train the tokenizer to create word index of each unique word.\n",
    "    token.fit_on_texts(sentences)\n",
    "    ## A dictionary of words mapped to integers\n",
    "    word_indecies = token.word_index\n",
    "    ## converting text sentences to numerical sequences\n",
    "    sequences = token.texts_to_sequences(sentences)\n",
    "    ## returning sequences\n",
    "    return sequences, word_indecies, token"
   ]
  },
  {
   "cell_type": "code",
   "execution_count": 4,
   "id": "4a104368",
   "metadata": {},
   "outputs": [],
   "source": [
    "def data_augmentaion(sequences) :\n",
    "    ## this function is made to create n_gram sequences\n",
    "    n_gram_sequences = list()\n",
    "    ## iterating all sequences\n",
    "    for sequence in sequences :\n",
    "        ## for each sequences creating subsequences\n",
    "        for i in range(len(sequence)) :\n",
    "            n_gram_sequences.append(sequence[0:i + 1])\n",
    "    ## returning all sequences\n",
    "    return n_gram_sequences"
   ]
  },
  {
   "cell_type": "code",
   "execution_count": 5,
   "id": "cfe3aef3",
   "metadata": {},
   "outputs": [],
   "source": [
    "def get_pad_sequences(n_gram_sequences) :\n",
    "    ## getting maximum length sequence\n",
    "    max_seq_len = max([len(seq) for seq in n_gram_sequences])\n",
    "    ## padding the sequences\n",
    "    padded_sequences = pad_sequences(n_gram_sequences, maxlen = max_seq_len)\n",
    "    ## returning padded sequences.\n",
    "    return padded_sequences, max_seq_len"
   ]
  },
  {
   "cell_type": "code",
   "execution_count": 6,
   "id": "2c278eb8",
   "metadata": {},
   "outputs": [],
   "source": [
    "def get_train_data(padded_sequences) :\n",
    "    x_train = padded_sequences[:, : -1]\n",
    "    y_train = padded_sequences[:, -1]\n",
    "    ## returning training data\n",
    "    return x_train, y_train"
   ]
  },
  {
   "cell_type": "code",
   "execution_count": 7,
   "id": "f592d5ab",
   "metadata": {},
   "outputs": [],
   "source": [
    "def data_preprocessing(file_path) :\n",
    "    ## getting data from file\n",
    "    sentences = get_data(file_path)\n",
    "    ## getting numerical sequences and word indecies\n",
    "    numerical_sequences, word_indecies, token = get_numeric_sequences(sentences)\n",
    "    ## getting n_gram_sequences\n",
    "    n_gram_sequences = data_augmentaion(numerical_sequences)\n",
    "    ## padding the sequences\n",
    "    padded_sequences, max_seq_len = get_pad_sequences(n_gram_sequences)\n",
    "    ## getting training data\n",
    "    x_train, y_train = get_train_data(padded_sequences)\n",
    "    ## creating categorical Y\n",
    "    vocab_size = len(word_indecies) + 1 ## since indexing was 1 based, i am incrementing size by 1\n",
    "    y_train_categorical = to_categorical(y_train, num_classes= vocab_size, dtype='int')\n",
    "    ## returning the desired things\n",
    "    return x_train, y_train, y_train_categorical, word_indecies, vocab_size, max_seq_len, token"
   ]
  },
  {
   "cell_type": "markdown",
   "id": "c3caeeec",
   "metadata": {},
   "source": [
    "#### Driver Code of Data Preprocessing Part"
   ]
  },
  {
   "cell_type": "code",
   "execution_count": 8,
   "id": "e3342b92",
   "metadata": {},
   "outputs": [
    {
     "data": {
      "text/plain": [
       "((8270, 15), (8270,), (8270, 2186), 2186, 16)"
      ]
     },
     "execution_count": 8,
     "metadata": {},
     "output_type": "execute_result"
    }
   ],
   "source": [
    "x_train, y_train, y_train_categorical, word_index, vocab_size, max_seq_len, token = data_preprocessing('Book.txt')\n",
    "x_train.shape, y_train.shape, y_train_categorical.shape, vocab_size, max_seq_len"
   ]
  },
  {
   "cell_type": "markdown",
   "id": "f382abc0",
   "metadata": {},
   "source": [
    "### Creating, Training and Testing the Model"
   ]
  },
  {
   "cell_type": "markdown",
   "id": "d0873c2f",
   "metadata": {},
   "source": [
    "#### Model Architecture"
   ]
  },
  {
   "cell_type": "code",
   "execution_count": 9,
   "id": "b4aea063",
   "metadata": {},
   "outputs": [],
   "source": [
    "class Text_Generation :\n",
    "    def __init__(self, vocab_size, tokenizer, max_seq_len, word_index) :\n",
    "        self.token = tokenizer\n",
    "        self.max_seq_len = max_seq_len\n",
    "        self.word_index = word_index\n",
    "        self.model = Sequential()\n",
    "        self.model.add(Embedding(input_dim=vocab_size, output_dim=250, input_length=max_seq_len - 1))\n",
    "        self.model.add(Bidirectional(LSTM(units=256)))\n",
    "        self.model.add(Dense(units=vocab_size, activation='softmax'))\n",
    "        self.model.compile(optimizer='adam', loss='categorical_crossentropy', metrics=['accuracy'])\n",
    "    \n",
    "    def fit(self, x_train, y_train_categorical) :\n",
    "        self.model.fit(x_train, y_train_categorical, epochs = 15)\n",
    "    \n",
    "    def predict(self, seed_text, next_words = 100) :\n",
    "        for i in range(next_words) :\n",
    "            sequence = self.token.texts_to_sequences([seed_text])\n",
    "            padded_sequence = pad_sequences(sequence, maxlen = max_seq_len - 1)\n",
    "            next_word_predicted = self.model.predict(padded_sequence)\n",
    "            next_word_index = np.argmax(next_word_predicted)\n",
    "            word = ' '\n",
    "            for key, val in word_index.items() :\n",
    "                if (val == next_word_index) :\n",
    "                    word += key\n",
    "            seed_text += word\n",
    "        return seed_text\n",
    "    \n",
    "    def visualize(self) :\n",
    "        return keras.utils.plot_model(\n",
    "            self.model,\n",
    "            to_file=\"Clf.png\",\n",
    "            show_shapes=True,\n",
    "            show_dtype=True,\n",
    "            show_layer_names=True,\n",
    "            rankdir=\"TB\",\n",
    "            expand_nested=True,\n",
    "            dpi=96,\n",
    "            layer_range=None,\n",
    "            show_layer_activations=True,\n",
    "            show_trainable=False,\n",
    "        )"
   ]
  },
  {
   "cell_type": "markdown",
   "id": "9e36b173",
   "metadata": {},
   "source": [
    "#### Creating Classifier"
   ]
  },
  {
   "cell_type": "code",
   "execution_count": 10,
   "id": "3725b911",
   "metadata": {},
   "outputs": [],
   "source": [
    "clf = Text_Generation(vocab_size, token, max_seq_len, word_index)"
   ]
  },
  {
   "cell_type": "markdown",
   "id": "e9e1f1f9",
   "metadata": {},
   "source": [
    "#### Training the Model"
   ]
  },
  {
   "cell_type": "code",
   "execution_count": 11,
   "id": "335e037a",
   "metadata": {
    "scrolled": true
   },
   "outputs": [
    {
     "name": "stdout",
     "output_type": "stream",
     "text": [
      "Epoch 1/15\n",
      "259/259 [==============================] - 27s 94ms/step - loss: 6.6935 - accuracy: 0.0522\n",
      "Epoch 2/15\n",
      "259/259 [==============================] - 25s 96ms/step - loss: 6.1225 - accuracy: 0.0727\n",
      "Epoch 3/15\n",
      "259/259 [==============================] - 24s 94ms/step - loss: 5.7296 - accuracy: 0.0933\n",
      "Epoch 4/15\n",
      "259/259 [==============================] - 25s 96ms/step - loss: 5.2326 - accuracy: 0.1253\n",
      "Epoch 5/15\n",
      "259/259 [==============================] - 25s 95ms/step - loss: 4.6854 - accuracy: 0.1596\n",
      "Epoch 6/15\n",
      "259/259 [==============================] - 25s 97ms/step - loss: 4.0876 - accuracy: 0.2128\n",
      "Epoch 7/15\n",
      "259/259 [==============================] - 25s 95ms/step - loss: 3.4632 - accuracy: 0.2906\n",
      "Epoch 8/15\n",
      "259/259 [==============================] - 25s 95ms/step - loss: 2.8624 - accuracy: 0.4021\n",
      "Epoch 9/15\n",
      "259/259 [==============================] - 25s 96ms/step - loss: 2.3156 - accuracy: 0.5224\n",
      "Epoch 10/15\n",
      "259/259 [==============================] - 25s 95ms/step - loss: 1.8757 - accuracy: 0.6260\n",
      "Epoch 11/15\n",
      "259/259 [==============================] - 25s 98ms/step - loss: 1.5467 - accuracy: 0.7052\n",
      "Epoch 12/15\n",
      "259/259 [==============================] - 26s 99ms/step - loss: 1.2947 - accuracy: 0.7623\n",
      "Epoch 13/15\n",
      "259/259 [==============================] - 24s 95ms/step - loss: 1.1034 - accuracy: 0.8087\n",
      "Epoch 14/15\n",
      "259/259 [==============================] - 25s 95ms/step - loss: 0.9807 - accuracy: 0.8329\n",
      "Epoch 15/15\n",
      "259/259 [==============================] - 25s 96ms/step - loss: 0.8907 - accuracy: 0.8479\n"
     ]
    }
   ],
   "source": [
    "clf.fit(x_train, y_train_categorical)"
   ]
  },
  {
   "cell_type": "markdown",
   "id": "92e699f3",
   "metadata": {},
   "source": [
    "#### Testing the Model"
   ]
  },
  {
   "cell_type": "code",
   "execution_count": 12,
   "id": "28f183a6",
   "metadata": {
    "scrolled": true
   },
   "outputs": [
    {
     "name": "stdout",
     "output_type": "stream",
     "text": [
      "1/1 [==============================] - 1s 638ms/step\n",
      "1/1 [==============================] - 0s 18ms/step\n",
      "1/1 [==============================] - 0s 6ms/step\n",
      "1/1 [==============================] - 0s 14ms/step\n",
      "1/1 [==============================] - 0s 14ms/step\n",
      "1/1 [==============================] - 0s 11ms/step\n",
      "1/1 [==============================] - 0s 10ms/step\n",
      "1/1 [==============================] - 0s 9ms/step\n",
      "1/1 [==============================] - 0s 17ms/step\n",
      "1/1 [==============================] - 0s 6ms/step\n",
      "1/1 [==============================] - 0s 2ms/step\n",
      "1/1 [==============================] - 0s 11ms/step\n",
      "1/1 [==============================] - 0s 9ms/step\n",
      "1/1 [==============================] - 0s 9ms/step\n",
      "1/1 [==============================] - 0s 7ms/step\n",
      "1/1 [==============================] - 0s 5ms/step\n",
      "1/1 [==============================] - 0s 17ms/step\n",
      "1/1 [==============================] - 0s 14ms/step\n",
      "1/1 [==============================] - 0s 13ms/step\n",
      "1/1 [==============================] - 0s 24ms/step\n",
      "1/1 [==============================] - 0s 10ms/step\n",
      "1/1 [==============================] - 0s 9ms/step\n",
      "1/1 [==============================] - 0s 4ms/step\n",
      "1/1 [==============================] - 0s 22ms/step\n",
      "1/1 [==============================] - 0s 5ms/step\n",
      "1/1 [==============================] - 0s 13ms/step\n",
      "1/1 [==============================] - 0s 12ms/step\n",
      "1/1 [==============================] - 0s 24ms/step\n",
      "1/1 [==============================] - 0s 11ms/step\n",
      "1/1 [==============================] - 0s 10ms/step\n",
      "1/1 [==============================] - 0s 8ms/step\n",
      "1/1 [==============================] - 0s 7ms/step\n",
      "1/1 [==============================] - 0s 7ms/step\n",
      "1/1 [==============================] - 0s 3ms/step\n",
      "1/1 [==============================] - 0s 23ms/step\n",
      "1/1 [==============================] - 0s 11ms/step\n",
      "1/1 [==============================] - 0s 9ms/step\n",
      "1/1 [==============================] - 0s 7ms/step\n",
      "1/1 [==============================] - 0s 6ms/step\n",
      "1/1 [==============================] - 0s 14ms/step\n",
      "1/1 [==============================] - 0s 6ms/step\n",
      "1/1 [==============================] - 0s 14ms/step\n",
      "1/1 [==============================] - 0s 12ms/step\n",
      "1/1 [==============================] - 0s 23ms/step\n",
      "1/1 [==============================] - 0s 7ms/step\n",
      "1/1 [==============================] - 0s 6ms/step\n",
      "1/1 [==============================] - 0s 5ms/step\n",
      "1/1 [==============================] - 0s 6ms/step\n",
      "1/1 [==============================] - 0s 6ms/step\n",
      "1/1 [==============================] - 0s 14ms/step\n",
      "1/1 [==============================] - 0s 14ms/step\n",
      "1/1 [==============================] - 0s 13ms/step\n",
      "1/1 [==============================] - 0s 24ms/step\n",
      "1/1 [==============================] - 0s 10ms/step\n",
      "1/1 [==============================] - 0s 7ms/step\n",
      "1/1 [==============================] - 0s 17ms/step\n",
      "1/1 [==============================] - 0s 10ms/step\n",
      "1/1 [==============================] - 0s 8ms/step\n",
      "1/1 [==============================] - 0s 6ms/step\n",
      "1/1 [==============================] - 0s 7ms/step\n",
      "1/1 [==============================] - 0s 8ms/step\n",
      "1/1 [==============================] - 0s 4ms/step\n",
      "1/1 [==============================] - 0s 5ms/step\n",
      "1/1 [==============================] - 0s 12ms/step\n",
      "1/1 [==============================] - 0s 24ms/step\n",
      "1/1 [==============================] - 0s 11ms/step\n",
      "1/1 [==============================] - 0s 7ms/step\n",
      "1/1 [==============================] - 0s 14ms/step\n",
      "1/1 [==============================] - 0s 12ms/step\n",
      "1/1 [==============================] - 0s 23ms/step\n",
      "1/1 [==============================] - 0s 11ms/step\n",
      "1/1 [==============================] - 0s 11ms/step\n",
      "1/1 [==============================] - 0s 8ms/step\n",
      "1/1 [==============================] - 0s 7ms/step\n",
      "1/1 [==============================] - 0s 7ms/step\n",
      "1/1 [==============================] - 0s 7ms/step\n",
      "1/1 [==============================] - 0s 7ms/step\n",
      "1/1 [==============================] - 0s 11ms/step\n",
      "1/1 [==============================] - 0s 11ms/step\n",
      "1/1 [==============================] - 0s 7ms/step\n",
      "1/1 [==============================] - 0s 14ms/step\n",
      "1/1 [==============================] - 0s 13ms/step\n",
      "1/1 [==============================] - 0s 14ms/step\n",
      "1/1 [==============================] - 0s 23ms/step\n",
      "1/1 [==============================] - 0s 11ms/step\n",
      "1/1 [==============================] - 0s 9ms/step\n",
      "1/1 [==============================] - 0s 7ms/step\n",
      "1/1 [==============================] - 0s 6ms/step\n",
      "1/1 [==============================] - 0s 12ms/step\n",
      "1/1 [==============================] - 0s 24ms/step\n",
      "1/1 [==============================] - 0s 9ms/step\n",
      "1/1 [==============================] - 0s 8ms/step\n",
      "1/1 [==============================] - 0s 7ms/step\n",
      "1/1 [==============================] - 0s 6ms/step\n",
      "1/1 [==============================] - 0s 15ms/step\n",
      "1/1 [==============================] - 0s 14ms/step\n",
      "1/1 [==============================] - 0s 23ms/step\n",
      "1/1 [==============================] - 0s 11ms/step\n",
      "1/1 [==============================] - 0s 10ms/step\n",
      "1/1 [==============================] - 0s 8ms/step\n"
     ]
    }
   ],
   "source": [
    "## seed text can also be taken as an input from user.\n",
    "seed_text = 'This ebook is for the use of anyone anywhere in the United States and most other parts of'\n",
    "generated_output_text = clf.predict(seed_text)"
   ]
  },
  {
   "cell_type": "code",
   "execution_count": 13,
   "id": "cc318ba4",
   "metadata": {},
   "outputs": [
    {
     "name": "stdout",
     "output_type": "stream",
     "text": [
      "This ebook is for the use of anyone anywhere in the United States and most other parts of the world at no cost and with almost no restrictions restrictions and how to his part i shall decided that a voluminous forged with his one were love her while the were until i had been loved and it was the social used on his part for an waves she dropped which he will then you to show the packet the living sympathetic at my suggestion so the impression of his loved will used in www gutenberg org you are a curiosity ridden while the united states we do not do not thus thus it it it is no never\n"
     ]
    }
   ],
   "source": [
    "print(generated_output_text)"
   ]
  },
  {
   "cell_type": "markdown",
   "id": "86f8447f",
   "metadata": {},
   "source": [
    "#### Visualizing The Model"
   ]
  },
  {
   "cell_type": "code",
   "execution_count": 14,
   "id": "1b0b10eb",
   "metadata": {},
   "outputs": [
    {
     "data": {
      "image/png": "[encoded data removed]",
      "text/plain": [
       "<IPython.core.display.Image object>"
      ]
     },
     "execution_count": 14,
     "metadata": {},
     "output_type": "execute_result"
    }
   ],
   "source": [
    "clf.visualize()"
   ]
  }
 ],
 "metadata": {
  "kernelspec": {
   "display_name": "Python 3 (ipykernel)",
   "language": "python",
   "name": "python3"
  },
  "language_info": {
   "codemirror_mode": {
    "name": "ipython",
    "version": 3
   },
   "file_extension": ".py",
   "mimetype": "text/x-python",
   "name": "python",
   "nbconvert_exporter": "python",
   "pygments_lexer": "ipython3",
   "version": "3.11.5"
  }
 },
 "nbformat": 4,
 "nbformat_minor": 5
}
